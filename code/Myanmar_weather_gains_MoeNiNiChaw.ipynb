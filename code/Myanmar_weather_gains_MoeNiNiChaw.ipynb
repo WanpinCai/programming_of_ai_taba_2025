{
 "cells": [
  {
   "cell_type": "code",
   "execution_count": 13,
   "metadata": {},
   "outputs": [],
   "source": [
    "import pandas as pd\n",
    "import numpy as np\n",
    "import pymongo\n",
    "from pymongo import MongoClient\n",
    "from pymongo.errors import ConnectionFailure, OperationFailure\n",
    "import seaborn as sns\n",
    "import matplotlib.pyplot as plt\n",
    "from sklearn.svm import SVR\n",
    "from sklearn.tree import DecisionTreeRegressor\n",
    "from sklearn.preprocessing import MinMaxScaler\n",
    "from sklearn.model_selection import train_test_split\n",
    "from sklearn.metrics import mean_squared_error, r2_score, mean_squared_error\n"
   ]
  },
  {
   "cell_type": "markdown",
   "metadata": {},
   "source": [
    "### Merge Crops Production datasets"
   ]
  },
  {
   "cell_type": "markdown",
   "metadata": {},
   "source": [
    "I collected the crops production datasets from Our world in Data website which provide different kinds of crops data separately."
   ]
  },
  {
   "cell_type": "code",
   "execution_count": 14,
   "metadata": {},
   "outputs": [],
   "source": [
    "df_maize = pd.read_csv('productions/maize-production.csv')\n",
    "df_millet = pd.read_csv('productions/millet-production.csv')\n",
    "df_oat = pd.read_csv('productions/oat-production.csv')\n",
    "df_rice = pd.read_csv('productions/rice-production.csv')\n",
    "df_wheat = pd.read_csv('productions/wheat-production.csv')\n",
    "df_barley = pd.read_csv('productions/barley-production.csv')\n",
    "df_bean = pd.read_csv('productions/bean-production.csv')\n",
    "df_pea = pd.read_csv('productions/dry-pea-production.csv')\n",
    "df_mustard = pd.read_csv('productions/mustard-seed-production.csv')\n",
    "df_seasame = pd.read_csv('productions/sesame-seed-production.csv')\n",
    "df_sorghum = pd.read_csv('productions/sorghum-production.csv')\n",
    "df_coffee = pd.read_csv('productions/coffee-production.csv')\n",
    "df_soybean = pd.read_csv('productions/soybean-production.csv')\n",
    "df_sunflower = pd.read_csv('productions/sunflower-seed-production.csv')\n",
    "df_groundnu = pd.read_csv('productions/groundnut-production.csv')\n",
    "df_lentil = pd.read_csv('productions/lentil-production.csv')\n",
    "df_chickpea = pd.read_csv('productions/chickpea-production.csv')"
   ]
  },
  {
   "cell_type": "markdown",
   "metadata": {},
   "source": [
    "### Creating Categories features for each type of grains "
   ]
  },
  {
   "cell_type": "markdown",
   "metadata": {},
   "source": [
    "Categroies new features is added in each dataset beofore merging and assinged the related name of grains."
   ]
  },
  {
   "cell_type": "code",
   "execution_count": 16,
   "metadata": {},
   "outputs": [],
   "source": [
    "df_maize['Categories'] = 'maize'\n",
    "df_millet['Categories'] = 'millet'\n",
    "df_oat['Categories'] = 'oat'\n",
    "df_rice['Categories'] = 'rice'\n",
    "df_wheat['Categories'] = 'wheat'\n",
    "df_barley['Categories'] = 'barley'\n",
    "df_bean['Categories'] = 'bean'\n",
    "df_coffee[\"Categories\"] = \"coffee\"\n",
    "df_pea['Categories'] = 'pea'\n",
    "df_mustard['Categories'] = 'mustand'\n",
    "df_seasame['Categories'] = 'sesame seed'\n",
    "df_sorghum['Categories'] = 'sorghum'\n",
    "df_soybean['Categories'] = 'soybean'\n",
    "df_sunflower['Categories'] = 'sunflower seed'\n",
    "df_groundnu['Categories'] = 'groundnut'\n",
    "df_lentil['Categories'] = 'lentil'\n",
    "df_chickpea['Categories'] = 'chickpea'"
   ]
  },
  {
   "cell_type": "code",
   "execution_count": 17,
   "metadata": {},
   "outputs": [],
   "source": [
    "df_production= pd.concat([df_maize, df_millet, df_oat, df_rice, df_wheat,df_barley, df_coffee, df_bean, df_pea, df_mustard, df_seasame, df_sorghum, df_soybean, df_sunflower, df_groundnu, df_lentil, df_chickpea ], ignore_index=True, axis=0 ,sort=False)"
   ]
  },
  {
   "cell_type": "code",
   "execution_count": 18,
   "metadata": {},
   "outputs": [
    {
     "data": {
      "text/html": [
       "<div>\n",
       "<style scoped>\n",
       "    .dataframe tbody tr th:only-of-type {\n",
       "        vertical-align: middle;\n",
       "    }\n",
       "\n",
       "    .dataframe tbody tr th {\n",
       "        vertical-align: top;\n",
       "    }\n",
       "\n",
       "    .dataframe thead th {\n",
       "        text-align: right;\n",
       "    }\n",
       "</style>\n",
       "<table border=\"1\" class=\"dataframe\">\n",
       "  <thead>\n",
       "    <tr style=\"text-align: right;\">\n",
       "      <th></th>\n",
       "      <th>Country</th>\n",
       "      <th>Year</th>\n",
       "      <th>Production per capita (kg)</th>\n",
       "      <th>Categories</th>\n",
       "    </tr>\n",
       "  </thead>\n",
       "  <tbody>\n",
       "    <tr>\n",
       "      <th>0</th>\n",
       "      <td>Myanmar</td>\n",
       "      <td>1961</td>\n",
       "      <td>2.472357</td>\n",
       "      <td>maize</td>\n",
       "    </tr>\n",
       "    <tr>\n",
       "      <th>1</th>\n",
       "      <td>Myanmar</td>\n",
       "      <td>1962</td>\n",
       "      <td>2.923871</td>\n",
       "      <td>maize</td>\n",
       "    </tr>\n",
       "    <tr>\n",
       "      <th>2</th>\n",
       "      <td>Myanmar</td>\n",
       "      <td>1963</td>\n",
       "      <td>3.193012</td>\n",
       "      <td>maize</td>\n",
       "    </tr>\n",
       "    <tr>\n",
       "      <th>3</th>\n",
       "      <td>Myanmar</td>\n",
       "      <td>1964</td>\n",
       "      <td>2.249111</td>\n",
       "      <td>maize</td>\n",
       "    </tr>\n",
       "    <tr>\n",
       "      <th>4</th>\n",
       "      <td>Myanmar</td>\n",
       "      <td>1965</td>\n",
       "      <td>1.949489</td>\n",
       "      <td>maize</td>\n",
       "    </tr>\n",
       "  </tbody>\n",
       "</table>\n",
       "</div>"
      ],
      "text/plain": [
       "   Country  Year  Production per capita (kg) Categories\n",
       "0  Myanmar  1961                    2.472357      maize\n",
       "1  Myanmar  1962                    2.923871      maize\n",
       "2  Myanmar  1963                    3.193012      maize\n",
       "3  Myanmar  1964                    2.249111      maize\n",
       "4  Myanmar  1965                    1.949489      maize"
      ]
     },
     "execution_count": 18,
     "metadata": {},
     "output_type": "execute_result"
    }
   ],
   "source": [
    "df_production.head()"
   ]
  },
  {
   "cell_type": "markdown",
   "metadata": {},
   "source": [
    "There are 1053 rows and 4 columns of crops production dataset after merging. "
   ]
  },
  {
   "cell_type": "code",
   "execution_count": 19,
   "metadata": {},
   "outputs": [
    {
     "data": {
      "text/plain": [
       "(1053, 4)"
      ]
     },
     "execution_count": 19,
     "metadata": {},
     "output_type": "execute_result"
    }
   ],
   "source": [
    "df_production.shape"
   ]
  },
  {
   "cell_type": "markdown",
   "metadata": {},
   "source": [
    "### Merge Used of land datasets"
   ]
  },
  {
   "cell_type": "code",
   "execution_count": 20,
   "metadata": {},
   "outputs": [],
   "source": [
    "df_land_maize = pd.read_csv('land/maize.csv')\n",
    "df_land_millet = pd.read_csv('land/millet.csv')\n",
    "df_land_rice = pd.read_csv('land/rice.csv')\n",
    "df_land_wheat = pd.read_csv('land/wheat.csv')\n",
    "df_land_barley = pd.read_csv('land/barley.csv')\n",
    "df_land_bean = pd.read_csv('land/dry-bean.csv')\n",
    "df_land_pea = pd.read_csv('land/dry-pea.csv')\n",
    "df_land_coffee = pd.read_csv('land/coffee.csv')\n",
    "df_land_mustard = pd.read_csv('land/mustard.csv')\n",
    "df_land_seasame = pd.read_csv('land/sesame.csv')\n",
    "df_land_sorghum = pd.read_csv('land/sorghum.csv')\n",
    "df_land_soybean = pd.read_csv('land/soybean.csv')\n",
    "df_land_sunflower = pd.read_csv('land/sunflower.csv')\n",
    "df_land_groundnu = pd.read_csv('land/groundnut.csv')\n",
    "df_land_lentil = pd.read_csv('land/lentil.csv')\n",
    "df_land_chickpea = pd.read_csv('land/chickpea.csv')"
   ]
  },
  {
   "cell_type": "markdown",
   "metadata": {},
   "source": [
    "Categroies new features is added in each dataset beofore merging and assinged the related name of grains."
   ]
  },
  {
   "cell_type": "code",
   "execution_count": 21,
   "metadata": {},
   "outputs": [],
   "source": [
    "df_land_maize['Categories'] = 'maize'\n",
    "df_land_millet['Categories'] = 'millet'\n",
    "df_land_rice['Categories'] = 'rice'\n",
    "df_land_wheat['Categories'] = 'wheat'\n",
    "df_land_barley['Categories'] = 'barley'\n",
    "df_land_bean['Categories'] = 'bean'\n",
    "df_land_pea['Categories'] = 'pea'\n",
    "df_land_mustard['Categories'] = 'mustand'\n",
    "df_land_seasame['Categories'] = 'sesame seed'\n",
    "df_land_coffee[\"Categories\"] = \"coffee\"\n",
    "df_land_sorghum['Categories'] = 'sorghum'\n",
    "df_land_soybean['Categories'] = 'soybean'\n",
    "df_land_sunflower['Categories'] = 'sunflower seed'\n",
    "df_land_groundnu['Categories'] = 'groundnut'\n",
    "df_land_lentil['Categories'] = 'lentil'\n",
    "df_land_chickpea['Categories'] = 'chickpea'"
   ]
  },
  {
   "cell_type": "code",
   "execution_count": 22,
   "metadata": {},
   "outputs": [],
   "source": [
    "df_land= pd.concat([df_land_maize, df_land_millet, df_land_rice, df_land_wheat,df_land_barley,df_land_coffee, df_land_bean, df_land_pea, df_land_mustard, df_land_seasame, df_land_sorghum, df_land_soybean, df_land_sunflower, df_land_groundnu, df_land_lentil, df_land_chickpea ], ignore_index=True, axis=0 ,sort=False)\n"
   ]
  },
  {
   "cell_type": "code",
   "execution_count": 23,
   "metadata": {},
   "outputs": [
    {
     "data": {
      "text/html": [
       "<div>\n",
       "<style scoped>\n",
       "    .dataframe tbody tr th:only-of-type {\n",
       "        vertical-align: middle;\n",
       "    }\n",
       "\n",
       "    .dataframe tbody tr th {\n",
       "        vertical-align: top;\n",
       "    }\n",
       "\n",
       "    .dataframe thead th {\n",
       "        text-align: right;\n",
       "    }\n",
       "</style>\n",
       "<table border=\"1\" class=\"dataframe\">\n",
       "  <thead>\n",
       "    <tr style=\"text-align: right;\">\n",
       "      <th></th>\n",
       "      <th>Country</th>\n",
       "      <th>Year</th>\n",
       "      <th>Land Use per capita (m²)</th>\n",
       "      <th>Categories</th>\n",
       "    </tr>\n",
       "  </thead>\n",
       "  <tbody>\n",
       "    <tr>\n",
       "      <th>0</th>\n",
       "      <td>Myanmar</td>\n",
       "      <td>1961</td>\n",
       "      <td>30.563292</td>\n",
       "      <td>maize</td>\n",
       "    </tr>\n",
       "    <tr>\n",
       "      <th>1</th>\n",
       "      <td>Myanmar</td>\n",
       "      <td>1962</td>\n",
       "      <td>55.546113</td>\n",
       "      <td>maize</td>\n",
       "    </tr>\n",
       "    <tr>\n",
       "      <th>2</th>\n",
       "      <td>Myanmar</td>\n",
       "      <td>1963</td>\n",
       "      <td>42.844918</td>\n",
       "      <td>maize</td>\n",
       "    </tr>\n",
       "    <tr>\n",
       "      <th>3</th>\n",
       "      <td>Myanmar</td>\n",
       "      <td>1964</td>\n",
       "      <td>34.686418</td>\n",
       "      <td>maize</td>\n",
       "    </tr>\n",
       "    <tr>\n",
       "      <th>4</th>\n",
       "      <td>Myanmar</td>\n",
       "      <td>1965</td>\n",
       "      <td>32.694608</td>\n",
       "      <td>maize</td>\n",
       "    </tr>\n",
       "  </tbody>\n",
       "</table>\n",
       "</div>"
      ],
      "text/plain": [
       "   Country  Year  Land Use per capita (m²) Categories\n",
       "0  Myanmar  1961                 30.563292      maize\n",
       "1  Myanmar  1962                 55.546113      maize\n",
       "2  Myanmar  1963                 42.844918      maize\n",
       "3  Myanmar  1964                 34.686418      maize\n",
       "4  Myanmar  1965                 32.694608      maize"
      ]
     },
     "execution_count": 23,
     "metadata": {},
     "output_type": "execute_result"
    }
   ],
   "source": [
    "df_land.head()"
   ]
  },
  {
   "cell_type": "markdown",
   "metadata": {},
   "source": [
    "There are 992 rows and 4 columns of crops production dataset after merging. "
   ]
  },
  {
   "cell_type": "code",
   "execution_count": 24,
   "metadata": {},
   "outputs": [
    {
     "data": {
      "text/plain": [
       "(992, 4)"
      ]
     },
     "execution_count": 24,
     "metadata": {},
     "output_type": "execute_result"
    }
   ],
   "source": [
    "df_land.shape"
   ]
  },
  {
   "cell_type": "markdown",
   "metadata": {},
   "source": [
    "### Connect MogoDB server "
   ]
  },
  {
   "cell_type": "code",
   "execution_count": 25,
   "metadata": {},
   "outputs": [
    {
     "name": "stdout",
     "output_type": "stream",
     "text": [
      "Connected to MongoDB successfully!\n"
     ]
    }
   ],
   "source": [
    "try:\n",
    "    # Connect to MongoDB server\n",
    "    client = MongoClient(\"mongodb://localhost:27017/\")\n",
    "    db = client['myanmar_crops_db']  # Database name\n",
    "    print(\"Connected to MongoDB successfully!\")\n",
    "except ConnectionFailure as e:\n",
    "    print(f\"Connection failed: {e}\")\n",
    "    exit()\n"
   ]
  },
  {
   "cell_type": "markdown",
   "metadata": {},
   "source": [
    "#### Weather data Description \n",
    "NASA/POWER CERES/MERRA2 Native Resolution Monthly and Annual\n",
    "\n",
    "Dates (month/day/year): 01/01/1984 through 12/31/2022\n",
    "\n",
    "Location: Regional \n",
    "\n",
    "Elevation from MERRA-2: Average for 0.5 x 0.625 degree lat/lon region = na meters\n",
    "\n",
    "The value for missing source data that cannot be computed or is outside of the sources availability range: -999\n",
    "\n",
    "Parameter(s): \n",
    "\n",
    "QV2M            MERRA-2 Specific Humidity at 2 Meters (g/kg)\n",
    "\n",
    "T2M_MAX         MERRA-2 Temperature at 2 Meters Maximum (C)\n",
    "\n",
    "T2M_MIN         MERRA-2 Temperature at 2 Meters Minimum (C)\n",
    "\n",
    "WS2M_MAX        MERRA-2 Wind Speed at 2 Meters Maximum (m/s)\n",
    "\n",
    "WS2M_MIN        MERRA-2 Wind Speed at 2 Meters Minimum (m/s)\n",
    "\n",
    "PRECTOTCORR     MERRA-2 Precipitation Corrected (mm/day)\n",
    "\n",
    "\n",
    "The weather dataset is used in this project obtained from NASA/POWER CERES/MERRA2 which provides average monthly and annual data for each weather parameters from 1st January 1984 to December 31, 2022. This is covers Myanmar Country area 0.5-degree x 0.625 degree latitude and longitude. The dataset provides weather parameters including QV2M, T2M_MAX, T2M_MIN, WS2M_MAX, WS2M_MIN, PRECTOTCORR and missing values are represented by -999. "
   ]
  },
  {
   "cell_type": "markdown",
   "metadata": {},
   "source": [
    "### Analyzing the characteristics of weather data."
   ]
  },
  {
   "cell_type": "code",
   "execution_count": 26,
   "metadata": {},
   "outputs": [],
   "source": [
    "# Load weather dataset\n",
    "# weather_data = pd.read_csv('weather_data.csv')\n",
    "df_weather = pd.read_csv('weather/nasa1.csv', skiprows=14)  # Skiping metadata"
   ]
  },
  {
   "cell_type": "code",
   "execution_count": 27,
   "metadata": {},
   "outputs": [
    {
     "data": {
      "text/html": [
       "<div>\n",
       "<style scoped>\n",
       "    .dataframe tbody tr th:only-of-type {\n",
       "        vertical-align: middle;\n",
       "    }\n",
       "\n",
       "    .dataframe tbody tr th {\n",
       "        vertical-align: top;\n",
       "    }\n",
       "\n",
       "    .dataframe thead th {\n",
       "        text-align: right;\n",
       "    }\n",
       "</style>\n",
       "<table border=\"1\" class=\"dataframe\">\n",
       "  <thead>\n",
       "    <tr style=\"text-align: right;\">\n",
       "      <th></th>\n",
       "      <th>PARAMETER</th>\n",
       "      <th>YEAR</th>\n",
       "      <th>LAT</th>\n",
       "      <th>LON</th>\n",
       "      <th>JAN</th>\n",
       "      <th>FEB</th>\n",
       "      <th>MAR</th>\n",
       "      <th>APR</th>\n",
       "      <th>MAY</th>\n",
       "      <th>JUN</th>\n",
       "      <th>JUL</th>\n",
       "      <th>AUG</th>\n",
       "      <th>SEP</th>\n",
       "      <th>OCT</th>\n",
       "      <th>NOV</th>\n",
       "      <th>DEC</th>\n",
       "      <th>ANN</th>\n",
       "    </tr>\n",
       "  </thead>\n",
       "  <tbody>\n",
       "    <tr>\n",
       "      <th>0</th>\n",
       "      <td>QV2M</td>\n",
       "      <td>1984</td>\n",
       "      <td>15.75</td>\n",
       "      <td>93.25</td>\n",
       "      <td>13.81</td>\n",
       "      <td>15.14</td>\n",
       "      <td>15.58</td>\n",
       "      <td>19.01</td>\n",
       "      <td>19.42</td>\n",
       "      <td>20.40</td>\n",
       "      <td>19.59</td>\n",
       "      <td>19.71</td>\n",
       "      <td>18.21</td>\n",
       "      <td>17.97</td>\n",
       "      <td>16.48</td>\n",
       "      <td>14.48</td>\n",
       "      <td>17.49</td>\n",
       "    </tr>\n",
       "    <tr>\n",
       "      <th>1</th>\n",
       "      <td>QV2M</td>\n",
       "      <td>1984</td>\n",
       "      <td>15.75</td>\n",
       "      <td>93.75</td>\n",
       "      <td>13.85</td>\n",
       "      <td>15.29</td>\n",
       "      <td>15.75</td>\n",
       "      <td>19.01</td>\n",
       "      <td>19.35</td>\n",
       "      <td>20.36</td>\n",
       "      <td>19.56</td>\n",
       "      <td>19.68</td>\n",
       "      <td>18.31</td>\n",
       "      <td>17.94</td>\n",
       "      <td>16.48</td>\n",
       "      <td>14.56</td>\n",
       "      <td>17.52</td>\n",
       "    </tr>\n",
       "    <tr>\n",
       "      <th>2</th>\n",
       "      <td>QV2M</td>\n",
       "      <td>1984</td>\n",
       "      <td>15.75</td>\n",
       "      <td>94.25</td>\n",
       "      <td>13.42</td>\n",
       "      <td>14.90</td>\n",
       "      <td>15.31</td>\n",
       "      <td>18.52</td>\n",
       "      <td>18.88</td>\n",
       "      <td>20.09</td>\n",
       "      <td>19.39</td>\n",
       "      <td>19.51</td>\n",
       "      <td>18.26</td>\n",
       "      <td>17.75</td>\n",
       "      <td>16.09</td>\n",
       "      <td>14.02</td>\n",
       "      <td>17.18</td>\n",
       "    </tr>\n",
       "    <tr>\n",
       "      <th>3</th>\n",
       "      <td>QV2M</td>\n",
       "      <td>1984</td>\n",
       "      <td>15.75</td>\n",
       "      <td>94.75</td>\n",
       "      <td>13.03</td>\n",
       "      <td>14.58</td>\n",
       "      <td>14.79</td>\n",
       "      <td>18.04</td>\n",
       "      <td>18.48</td>\n",
       "      <td>19.82</td>\n",
       "      <td>19.27</td>\n",
       "      <td>19.38</td>\n",
       "      <td>18.30</td>\n",
       "      <td>17.61</td>\n",
       "      <td>15.86</td>\n",
       "      <td>13.59</td>\n",
       "      <td>16.89</td>\n",
       "    </tr>\n",
       "    <tr>\n",
       "      <th>4</th>\n",
       "      <td>QV2M</td>\n",
       "      <td>1984</td>\n",
       "      <td>15.75</td>\n",
       "      <td>95.25</td>\n",
       "      <td>13.01</td>\n",
       "      <td>14.56</td>\n",
       "      <td>14.65</td>\n",
       "      <td>17.82</td>\n",
       "      <td>18.40</td>\n",
       "      <td>19.77</td>\n",
       "      <td>19.27</td>\n",
       "      <td>19.38</td>\n",
       "      <td>18.44</td>\n",
       "      <td>17.62</td>\n",
       "      <td>15.95</td>\n",
       "      <td>13.51</td>\n",
       "      <td>16.86</td>\n",
       "    </tr>\n",
       "  </tbody>\n",
       "</table>\n",
       "</div>"
      ],
      "text/plain": [
       "  PARAMETER  YEAR    LAT    LON    JAN    FEB    MAR    APR    MAY    JUN  \\\n",
       "0      QV2M  1984  15.75  93.25  13.81  15.14  15.58  19.01  19.42  20.40   \n",
       "1      QV2M  1984  15.75  93.75  13.85  15.29  15.75  19.01  19.35  20.36   \n",
       "2      QV2M  1984  15.75  94.25  13.42  14.90  15.31  18.52  18.88  20.09   \n",
       "3      QV2M  1984  15.75  94.75  13.03  14.58  14.79  18.04  18.48  19.82   \n",
       "4      QV2M  1984  15.75  95.25  13.01  14.56  14.65  17.82  18.40  19.77   \n",
       "\n",
       "     JUL    AUG    SEP    OCT    NOV    DEC    ANN  \n",
       "0  19.59  19.71  18.21  17.97  16.48  14.48  17.49  \n",
       "1  19.56  19.68  18.31  17.94  16.48  14.56  17.52  \n",
       "2  19.39  19.51  18.26  17.75  16.09  14.02  17.18  \n",
       "3  19.27  19.38  18.30  17.61  15.86  13.59  16.89  \n",
       "4  19.27  19.38  18.44  17.62  15.95  13.51  16.86  "
      ]
     },
     "execution_count": 27,
     "metadata": {},
     "output_type": "execute_result"
    }
   ],
   "source": [
    "df_weather.head()"
   ]
  },
  {
   "cell_type": "code",
   "execution_count": 28,
   "metadata": {},
   "outputs": [
    {
     "data": {
      "text/plain": [
       "(55692, 17)"
      ]
     },
     "execution_count": 28,
     "metadata": {},
     "output_type": "execute_result"
    }
   ],
   "source": [
    "df_weather.shape"
   ]
  },
  {
   "cell_type": "markdown",
   "metadata": {},
   "source": [
    "### Repalcing missing values"
   ]
  },
  {
   "cell_type": "code",
   "execution_count": 29,
   "metadata": {},
   "outputs": [],
   "source": [
    "df_weather.replace(-999, np.nan, inplace=True)"
   ]
  },
  {
   "cell_type": "markdown",
   "metadata": {},
   "source": [
    "### Uploading datasets on Mogodb \n"
   ]
  },
  {
   "cell_type": "markdown",
   "metadata": {},
   "source": [
    "uploaded datasets including weather data, crops production data and land used data on MongoDB. If the datasets are already uploaded, this step can be skipped."
   ]
  },
  {
   "cell_type": "code",
   "execution_count": 30,
   "metadata": {},
   "outputs": [
    {
     "name": "stdout",
     "output_type": "stream",
     "text": [
      "Weather data inserted successfully!\n",
      "Crop data inserted successfully!\n",
      "Land Used data inserted successfully!\n"
     ]
    }
   ],
   "source": [
    "try:\n",
    "    # Load weather dataset\n",
    "    # weather_data = pd.read_csv('weather_data.csv')\n",
    "    df_weather = pd.read_csv('weather/nasa1.csv', skiprows=14)  # Skiping metadata\n",
    "\n",
    "    # Insert weather data\n",
    "    weather_collection = db['weather']  # Collection name\n",
    "    weather_collection.insert_many(df_weather.to_dict('records'))\n",
    "    print(\"Weather data inserted successfully!\")\n",
    "\n",
    "    #Insert crop data\n",
    "    crop_collection = db['crop_production']\n",
    "    crop_collection.insert_many(df_production.to_dict('records'))\n",
    "    print(\"Crop data inserted successfully!\")\n",
    "    \n",
    "    #Insert crop data\n",
    "    land_collection = db['land_used']\n",
    "    land_collection.insert_many(df_land.to_dict('records'))\n",
    "    print(\"Land Used data inserted successfully!\")\n",
    "\n",
    "\n",
    "except FileNotFoundError as e:\n",
    "    print(f\"File not found: {e}\")\n",
    "except OperationFailure as e:\n",
    "    print(f\"Operation failed: {e}\")\n",
    "except Exception as e:\n",
    "    print(f\"An error occurred: {e}\")\n"
   ]
  },
  {
   "cell_type": "markdown",
   "metadata": {},
   "source": [
    "### Reterieving weather data from Mongo DB\n"
   ]
  },
  {
   "cell_type": "markdown",
   "metadata": {},
   "source": [
    "Retrieve data records from MongoDB to analyze patterns in the dataset."
   ]
  },
  {
   "cell_type": "code",
   "execution_count": 62,
   "metadata": {},
   "outputs": [
    {
     "name": "stdout",
     "output_type": "stream",
     "text": [
      "Successfully retereving Data Records\n"
     ]
    }
   ],
   "source": [
    "try:\n",
    "    \n",
    "    weather_collection = db['weather'] \n",
    "    weather_records = weather_collection.find({}, {'_id': 0})\n",
    "\n",
    "    crop_collection = db['crop_production']\n",
    "    crop_records = crop_collection.find({}, {'_id': 0})\n",
    "\n",
    "    land_collection = db['land_used']\n",
    "    land_records = land_collection.find({}, {'_id': 0})\n",
    "\n",
    "    print('Successfully retereving Data Records')\n",
    "\n",
    "except Exception as e:\n",
    "    print(f\"Error fetching data: {e}\")\n"
   ]
  },
  {
   "cell_type": "markdown",
   "metadata": {},
   "source": [
    "### Refining weather data structure "
   ]
  },
  {
   "cell_type": "markdown",
   "metadata": {},
   "source": [
    "In this step, transform the dataframe by caluating average annual weather data for eaiser ananlysis based on project's problem statement."
   ]
  },
  {
   "cell_type": "code",
   "execution_count": 63,
   "metadata": {},
   "outputs": [
    {
     "name": "stdout",
     "output_type": "stream",
     "text": [
      "Duplicates:\n",
      "         PARAMETER  YEAR    ANN\n",
      "0             QV2M  1984  17.49\n",
      "1             QV2M  1984  17.52\n",
      "2             QV2M  1984  17.18\n",
      "3             QV2M  1984  16.89\n",
      "4             QV2M  1984  16.86\n",
      "...            ...   ...    ...\n",
      "55687  PRECTOTCORR  2022   3.25\n",
      "55688  PRECTOTCORR  2022   3.40\n",
      "55689  PRECTOTCORR  2022   3.28\n",
      "55690  PRECTOTCORR  2022   3.40\n",
      "55691  PRECTOTCORR  2022   3.32\n",
      "\n",
      "[55692 rows x 3 columns]\n",
      "PARAMETER  PRECTOTCORR       QV2M    T2M_MAX    T2M_MIN  WS2M_MAX  WS2M_MIN\n",
      "YEAR                                                                       \n",
      "1984          2.755000  13.374664  37.729076  10.941555  4.363655  0.021975\n",
      "1985          2.936303  13.379328  37.835042  10.721134  4.706639  0.021176\n",
      "1986          2.052815  13.222941  37.869496  10.622731  4.327101  0.021891\n",
      "1987          2.325042  13.580000  38.295756  10.639244  4.687059  0.023487\n",
      "1988          2.438151  13.675126  39.018992  12.190546  4.528992  0.023571\n",
      "1989          1.454874  12.912899  38.636471  10.532143  4.581387  0.023235\n",
      "1990          1.857689  13.351176  38.014286  10.925378  4.422311  0.024160\n",
      "1991          2.108403  13.385378  38.906471  11.435756  5.393109  0.023950\n",
      "1992          2.460420  13.175084  38.708697   9.768866  4.692395  0.022143\n",
      "1993          1.200546  13.038487  37.770420   9.487815  4.545378  0.023824\n",
      "1994          1.995588  13.203109  38.277857  12.475420  4.479916  0.021176\n",
      "1995          1.915714  13.398571  38.748782  10.248487  4.731303  0.023277\n",
      "1996          1.731807  13.463193  38.144538  11.049790  4.566429  0.022269\n",
      "1997          2.433950  13.386345  38.608697  10.281891  5.038950  0.027311\n",
      "1998          0.642479  13.578487  38.836513  11.644118  4.859454  0.021429\n",
      "1999          1.454874  13.439790  38.666597   8.575714  4.691765  0.025126\n",
      "2000          1.415042  13.319580  37.958277  11.959118  4.301933  0.023403\n",
      "2001          1.392941  13.421807  38.682521  10.667017  4.283697  0.022227\n",
      "2002          1.539202  13.475252  38.559916  11.650798  4.781597  0.023403\n",
      "2003          0.569202  13.231639  39.366891  11.875294  4.624580  0.023697\n",
      "2004          1.550420  13.135756  38.682731  11.269496  4.928025  0.027605\n",
      "2005          1.237857  13.486092  38.692017  11.554664  4.430798  0.021429\n",
      "2006          1.647773  13.323992  38.129538  11.142059  5.438403  0.026218\n",
      "2007          1.328697  13.159076  38.391765  11.481134  5.084790  0.023025\n",
      "2008          2.900840  13.795126  38.306681  10.535840  5.100504  0.023025\n",
      "2009          3.278403  14.123109  37.201513  10.822311  4.647773  0.020168\n",
      "2010          3.851471  14.154118  38.597101  11.732143  4.046891  0.024076\n",
      "2011          4.347983  14.329202  36.065840  10.881597  4.466597  0.018866\n",
      "2012          3.988866  14.209580  37.434034  11.004454  4.488655  0.022899\n",
      "2013          3.822773  14.065924  37.687227   8.996765  4.322941  0.021807\n",
      "2014          3.047815  14.029580  38.111975  10.586597  4.461891  0.022479\n",
      "2015          3.730294  14.108782  37.987143  10.993824  4.597311  0.024496\n",
      "2016          4.866513  14.489160  39.110630   9.977941  4.610882  0.023193\n",
      "2017          4.855294  14.854664  37.413824   9.247983  5.085546  0.022857\n",
      "2018          4.773613  14.609580  36.945210  10.738361  5.194958  0.019034\n",
      "2019          4.250966  14.243445  39.065378  10.291176  4.568319  0.021513\n",
      "2020          4.101975  14.199580  38.059244  10.777899  4.916008  0.024580\n",
      "2021          4.523361  14.513151  37.988151  11.368025  4.318655  0.020252\n",
      "2022          4.606429  14.692899  37.174034  10.672353  4.224874  0.017395\n"
     ]
    }
   ],
   "source": [
    "try:\n",
    "    \n",
    "    query = {\"PARAMETER\": {\"$in\": ['QV2M', 'T2M_MAX', 'T2M_MIN', 'WS2M_MAX', 'WS2M_MIN', 'PRECTOTCORR']}}\n",
    "    data = list(weather_collection.find(query))  \n",
    "    \n",
    "    df = pd.DataFrame(data) # change into dataframe from dictionary\n",
    "   \n",
    "    filt = df[['PARAMETER', 'YEAR', 'ANN']]\n",
    "\n",
    "    duplicates = filt.duplicated(subset=['YEAR', 'PARAMETER'], keep=False) # create filter to check duplicate \n",
    "    print(\"Duplicates:\")\n",
    "    print(filt[duplicates]) \n",
    "\n",
    "    filt = filt.groupby(['YEAR', 'PARAMETER'], as_index=False)['ANN'].mean() # calculate the mean annual data as project requirement\n",
    "\n",
    "    df_new_weather = filt.pivot(index='YEAR', columns='PARAMETER', values='ANN') # Reshape the filtered weather data\n",
    "\n",
    "    print(df_new_weather)\n",
    "\n",
    "except Exception as e:\n",
    "    print(f\"An error occurred: {e}\")\n"
   ]
  },
  {
   "cell_type": "markdown",
   "metadata": {},
   "source": [
    "These original parameters were transferred to be understandable easily. \n",
    "\n",
    "QV2M = Humidity\n",
    "\n",
    "T2M_MAX and T2M_MIN = maximum and minimum temperatures \n",
    "\n",
    "WS2M_MAX and WS2M_MIN = max_wind and min_wind \n",
    "\n",
    "PRECTOTCORR = precipitation "
   ]
  },
  {
   "cell_type": "code",
   "execution_count": 64,
   "metadata": {},
   "outputs": [],
   "source": [
    "df_new_weather.columns = ['Precipitation', 'Humidity', 'Max_Temp', 'Min_Temp', 'Max_Wind', 'Min_Wind']\n"
   ]
  },
  {
   "cell_type": "code",
   "execution_count": 65,
   "metadata": {},
   "outputs": [],
   "source": [
    "df_new_weather.reset_index(inplace=True)"
   ]
  },
  {
   "cell_type": "code",
   "execution_count": 66,
   "metadata": {},
   "outputs": [],
   "source": [
    "df_new_weather.rename(columns={'YEAR': 'Year'}, inplace=True)\n"
   ]
  },
  {
   "cell_type": "code",
   "execution_count": 67,
   "metadata": {},
   "outputs": [
    {
     "data": {
      "text/html": [
       "<div>\n",
       "<style scoped>\n",
       "    .dataframe tbody tr th:only-of-type {\n",
       "        vertical-align: middle;\n",
       "    }\n",
       "\n",
       "    .dataframe tbody tr th {\n",
       "        vertical-align: top;\n",
       "    }\n",
       "\n",
       "    .dataframe thead th {\n",
       "        text-align: right;\n",
       "    }\n",
       "</style>\n",
       "<table border=\"1\" class=\"dataframe\">\n",
       "  <thead>\n",
       "    <tr style=\"text-align: right;\">\n",
       "      <th></th>\n",
       "      <th>Year</th>\n",
       "      <th>Precipitation</th>\n",
       "      <th>Humidity</th>\n",
       "      <th>Max_Temp</th>\n",
       "      <th>Min_Temp</th>\n",
       "      <th>Max_Wind</th>\n",
       "      <th>Min_Wind</th>\n",
       "    </tr>\n",
       "  </thead>\n",
       "  <tbody>\n",
       "    <tr>\n",
       "      <th>0</th>\n",
       "      <td>1984</td>\n",
       "      <td>2.755000</td>\n",
       "      <td>13.374664</td>\n",
       "      <td>37.729076</td>\n",
       "      <td>10.941555</td>\n",
       "      <td>4.363655</td>\n",
       "      <td>0.021975</td>\n",
       "    </tr>\n",
       "    <tr>\n",
       "      <th>1</th>\n",
       "      <td>1985</td>\n",
       "      <td>2.936303</td>\n",
       "      <td>13.379328</td>\n",
       "      <td>37.835042</td>\n",
       "      <td>10.721134</td>\n",
       "      <td>4.706639</td>\n",
       "      <td>0.021176</td>\n",
       "    </tr>\n",
       "    <tr>\n",
       "      <th>2</th>\n",
       "      <td>1986</td>\n",
       "      <td>2.052815</td>\n",
       "      <td>13.222941</td>\n",
       "      <td>37.869496</td>\n",
       "      <td>10.622731</td>\n",
       "      <td>4.327101</td>\n",
       "      <td>0.021891</td>\n",
       "    </tr>\n",
       "    <tr>\n",
       "      <th>3</th>\n",
       "      <td>1987</td>\n",
       "      <td>2.325042</td>\n",
       "      <td>13.580000</td>\n",
       "      <td>38.295756</td>\n",
       "      <td>10.639244</td>\n",
       "      <td>4.687059</td>\n",
       "      <td>0.023487</td>\n",
       "    </tr>\n",
       "    <tr>\n",
       "      <th>4</th>\n",
       "      <td>1988</td>\n",
       "      <td>2.438151</td>\n",
       "      <td>13.675126</td>\n",
       "      <td>39.018992</td>\n",
       "      <td>12.190546</td>\n",
       "      <td>4.528992</td>\n",
       "      <td>0.023571</td>\n",
       "    </tr>\n",
       "  </tbody>\n",
       "</table>\n",
       "</div>"
      ],
      "text/plain": [
       "   Year  Precipitation   Humidity   Max_Temp   Min_Temp  Max_Wind  Min_Wind\n",
       "0  1984       2.755000  13.374664  37.729076  10.941555  4.363655  0.021975\n",
       "1  1985       2.936303  13.379328  37.835042  10.721134  4.706639  0.021176\n",
       "2  1986       2.052815  13.222941  37.869496  10.622731  4.327101  0.021891\n",
       "3  1987       2.325042  13.580000  38.295756  10.639244  4.687059  0.023487\n",
       "4  1988       2.438151  13.675126  39.018992  12.190546  4.528992  0.023571"
      ]
     },
     "execution_count": 67,
     "metadata": {},
     "output_type": "execute_result"
    }
   ],
   "source": [
    "df_new_weather.head()\n"
   ]
  },
  {
   "cell_type": "code",
   "execution_count": 68,
   "metadata": {},
   "outputs": [
    {
     "name": "stdout",
     "output_type": "stream",
     "text": [
      "Data merging successful !!\n"
     ]
    }
   ],
   "source": [
    "try:\n",
    "    # Convert MongoDB result into a DataFrame\n",
    "    df_crop = pd.DataFrame(crop_records)\n",
    "    df_land = pd.DataFrame(land_records)\n",
    "\n",
    "    df_land_production = pd.merge(df_crop, df_land, on=['Year', 'Categories', 'Country'], how='outer')\n",
    "    df_final = pd.merge(df_land_production, df_new_weather, on='Year', how='inner')\n",
    "    print(\"Data merging successful !!\")\n",
    "\n",
    "except Exception as error:\n",
    "    print(\"Fail data Merging !\")"
   ]
  },
  {
   "cell_type": "code",
   "execution_count": 69,
   "metadata": {},
   "outputs": [
    {
     "data": {
      "text/html": [
       "<div>\n",
       "<style scoped>\n",
       "    .dataframe tbody tr th:only-of-type {\n",
       "        vertical-align: middle;\n",
       "    }\n",
       "\n",
       "    .dataframe tbody tr th {\n",
       "        vertical-align: top;\n",
       "    }\n",
       "\n",
       "    .dataframe thead th {\n",
       "        text-align: right;\n",
       "    }\n",
       "</style>\n",
       "<table border=\"1\" class=\"dataframe\">\n",
       "  <thead>\n",
       "    <tr style=\"text-align: right;\">\n",
       "      <th></th>\n",
       "      <th>Country</th>\n",
       "      <th>Year</th>\n",
       "      <th>Production per capita (kg)</th>\n",
       "      <th>Categories</th>\n",
       "      <th>Land Use per capita (m²)</th>\n",
       "      <th>Precipitation</th>\n",
       "      <th>Humidity</th>\n",
       "      <th>Max_Temp</th>\n",
       "      <th>Min_Temp</th>\n",
       "      <th>Max_Wind</th>\n",
       "      <th>Min_Wind</th>\n",
       "    </tr>\n",
       "  </thead>\n",
       "  <tbody>\n",
       "    <tr>\n",
       "      <th>0</th>\n",
       "      <td>Myanmar</td>\n",
       "      <td>1984</td>\n",
       "      <td>0.000000</td>\n",
       "      <td>barley</td>\n",
       "      <td>0.000000</td>\n",
       "      <td>2.755</td>\n",
       "      <td>13.374664</td>\n",
       "      <td>37.729076</td>\n",
       "      <td>10.941555</td>\n",
       "      <td>4.363655</td>\n",
       "      <td>0.021975</td>\n",
       "    </tr>\n",
       "    <tr>\n",
       "      <th>1</th>\n",
       "      <td>Myanmar</td>\n",
       "      <td>1984</td>\n",
       "      <td>9.900485</td>\n",
       "      <td>bean</td>\n",
       "      <td>114.602260</td>\n",
       "      <td>2.755</td>\n",
       "      <td>13.374664</td>\n",
       "      <td>37.729076</td>\n",
       "      <td>10.941555</td>\n",
       "      <td>4.363655</td>\n",
       "      <td>0.021975</td>\n",
       "    </tr>\n",
       "    <tr>\n",
       "      <th>2</th>\n",
       "      <td>Myanmar</td>\n",
       "      <td>1984</td>\n",
       "      <td>4.792775</td>\n",
       "      <td>chickpea</td>\n",
       "      <td>53.678607</td>\n",
       "      <td>2.755</td>\n",
       "      <td>13.374664</td>\n",
       "      <td>37.729076</td>\n",
       "      <td>10.941555</td>\n",
       "      <td>4.363655</td>\n",
       "      <td>0.021975</td>\n",
       "    </tr>\n",
       "    <tr>\n",
       "      <th>3</th>\n",
       "      <td>Myanmar</td>\n",
       "      <td>1984</td>\n",
       "      <td>0.033656</td>\n",
       "      <td>coffee</td>\n",
       "      <td>0.762171</td>\n",
       "      <td>2.755</td>\n",
       "      <td>13.374664</td>\n",
       "      <td>37.729076</td>\n",
       "      <td>10.941555</td>\n",
       "      <td>4.363655</td>\n",
       "      <td>0.021975</td>\n",
       "    </tr>\n",
       "    <tr>\n",
       "      <th>4</th>\n",
       "      <td>Myanmar</td>\n",
       "      <td>1984</td>\n",
       "      <td>14.700534</td>\n",
       "      <td>groundnut</td>\n",
       "      <td>144.845760</td>\n",
       "      <td>2.755</td>\n",
       "      <td>13.374664</td>\n",
       "      <td>37.729076</td>\n",
       "      <td>10.941555</td>\n",
       "      <td>4.363655</td>\n",
       "      <td>0.021975</td>\n",
       "    </tr>\n",
       "  </tbody>\n",
       "</table>\n",
       "</div>"
      ],
      "text/plain": [
       "   Country  Year  Production per capita (kg) Categories  \\\n",
       "0  Myanmar  1984                    0.000000     barley   \n",
       "1  Myanmar  1984                    9.900485       bean   \n",
       "2  Myanmar  1984                    4.792775   chickpea   \n",
       "3  Myanmar  1984                    0.033656     coffee   \n",
       "4  Myanmar  1984                   14.700534  groundnut   \n",
       "\n",
       "   Land Use per capita (m²)  Precipitation   Humidity   Max_Temp   Min_Temp  \\\n",
       "0                  0.000000          2.755  13.374664  37.729076  10.941555   \n",
       "1                114.602260          2.755  13.374664  37.729076  10.941555   \n",
       "2                 53.678607          2.755  13.374664  37.729076  10.941555   \n",
       "3                  0.762171          2.755  13.374664  37.729076  10.941555   \n",
       "4                144.845760          2.755  13.374664  37.729076  10.941555   \n",
       "\n",
       "   Max_Wind  Min_Wind  \n",
       "0  4.363655  0.021975  \n",
       "1  4.363655  0.021975  \n",
       "2  4.363655  0.021975  \n",
       "3  4.363655  0.021975  \n",
       "4  4.363655  0.021975  "
      ]
     },
     "execution_count": 69,
     "metadata": {},
     "output_type": "execute_result"
    }
   ],
   "source": [
    "df_final.head()"
   ]
  },
  {
   "cell_type": "code",
   "execution_count": 70,
   "metadata": {},
   "outputs": [
    {
     "name": "stdout",
     "output_type": "stream",
     "text": [
      "<class 'pandas.core.frame.DataFrame'>\n",
      "RangeIndex: 662 entries, 0 to 661\n",
      "Data columns (total 11 columns):\n",
      " #   Column                      Non-Null Count  Dtype  \n",
      "---  ------                      --------------  -----  \n",
      " 0   Country                     662 non-null    object \n",
      " 1   Year                        662 non-null    int64  \n",
      " 2   Production per capita (kg)  624 non-null    float64\n",
      " 3   Categories                  662 non-null    object \n",
      " 4   Land Use per capita (m²)    624 non-null    float64\n",
      " 5   Precipitation               662 non-null    float64\n",
      " 6   Humidity                    662 non-null    float64\n",
      " 7   Max_Temp                    662 non-null    float64\n",
      " 8   Min_Temp                    662 non-null    float64\n",
      " 9   Max_Wind                    662 non-null    float64\n",
      " 10  Min_Wind                    662 non-null    float64\n",
      "dtypes: float64(8), int64(1), object(2)\n",
      "memory usage: 57.0+ KB\n"
     ]
    }
   ],
   "source": [
    "df_final.info()"
   ]
  },
  {
   "cell_type": "code",
   "execution_count": 71,
   "metadata": {},
   "outputs": [
    {
     "data": {
      "text/plain": [
       "Country                        0\n",
       "Year                           0\n",
       "Production per capita (kg)    38\n",
       "Categories                     0\n",
       "Land Use per capita (m²)      38\n",
       "Precipitation                  0\n",
       "Humidity                       0\n",
       "Max_Temp                       0\n",
       "Min_Temp                       0\n",
       "Max_Wind                       0\n",
       "Min_Wind                       0\n",
       "dtype: int64"
      ]
     },
     "execution_count": 71,
     "metadata": {},
     "output_type": "execute_result"
    }
   ],
   "source": [
    "df_final.isnull().sum()"
   ]
  },
  {
   "cell_type": "code",
   "execution_count": 72,
   "metadata": {},
   "outputs": [
    {
     "name": "stderr",
     "output_type": "stream",
     "text": [
      "/var/folders/36/sl5hb49j1w19_xpzyhm1w6dc0000gn/T/ipykernel_3627/3422723458.py:1: FutureWarning: A value is trying to be set on a copy of a DataFrame or Series through chained assignment using an inplace method.\n",
      "The behavior will change in pandas 3.0. This inplace method will never work because the intermediate object on which we are setting values always behaves as a copy.\n",
      "\n",
      "For example, when doing 'df[col].method(value, inplace=True)', try using 'df.method({col: value}, inplace=True)' or df[col] = df[col].method(value) instead, to perform the operation inplace on the original object.\n",
      "\n",
      "\n",
      "  df_final['Production per capita (kg)'].fillna(0, inplace=True)\n"
     ]
    }
   ],
   "source": [
    "df_final['Production per capita (kg)'].fillna(0, inplace=True)\n"
   ]
  },
  {
   "cell_type": "code",
   "execution_count": 73,
   "metadata": {},
   "outputs": [
    {
     "name": "stderr",
     "output_type": "stream",
     "text": [
      "/var/folders/36/sl5hb49j1w19_xpzyhm1w6dc0000gn/T/ipykernel_3627/2724440562.py:1: FutureWarning: A value is trying to be set on a copy of a DataFrame or Series through chained assignment using an inplace method.\n",
      "The behavior will change in pandas 3.0. This inplace method will never work because the intermediate object on which we are setting values always behaves as a copy.\n",
      "\n",
      "For example, when doing 'df[col].method(value, inplace=True)', try using 'df.method({col: value}, inplace=True)' or df[col] = df[col].method(value) instead, to perform the operation inplace on the original object.\n",
      "\n",
      "\n",
      "  df_final['Land Use per capita (m²)'].fillna(0, inplace=True)\n"
     ]
    }
   ],
   "source": [
    "df_final['Land Use per capita (m²)'].fillna(0, inplace=True)\n"
   ]
  },
  {
   "cell_type": "code",
   "execution_count": 74,
   "metadata": {},
   "outputs": [
    {
     "data": {
      "text/plain": [
       "0      False\n",
       "1      False\n",
       "2      False\n",
       "3      False\n",
       "4      False\n",
       "       ...  \n",
       "657    False\n",
       "658    False\n",
       "659    False\n",
       "660    False\n",
       "661    False\n",
       "Length: 662, dtype: bool"
      ]
     },
     "execution_count": 74,
     "metadata": {},
     "output_type": "execute_result"
    }
   ],
   "source": [
    "df_final.duplicated() # There is no duplicates in dataset"
   ]
  },
  {
   "cell_type": "code",
   "execution_count": 75,
   "metadata": {},
   "outputs": [
    {
     "data": {
      "text/html": [
       "<div>\n",
       "<style scoped>\n",
       "    .dataframe tbody tr th:only-of-type {\n",
       "        vertical-align: middle;\n",
       "    }\n",
       "\n",
       "    .dataframe tbody tr th {\n",
       "        vertical-align: top;\n",
       "    }\n",
       "\n",
       "    .dataframe thead th {\n",
       "        text-align: right;\n",
       "    }\n",
       "</style>\n",
       "<table border=\"1\" class=\"dataframe\">\n",
       "  <thead>\n",
       "    <tr style=\"text-align: right;\">\n",
       "      <th></th>\n",
       "      <th>Year</th>\n",
       "      <th>Production per capita (kg)</th>\n",
       "      <th>Land Use per capita (m²)</th>\n",
       "      <th>Precipitation</th>\n",
       "      <th>Humidity</th>\n",
       "      <th>Max_Temp</th>\n",
       "      <th>Min_Temp</th>\n",
       "      <th>Max_Wind</th>\n",
       "      <th>Min_Wind</th>\n",
       "    </tr>\n",
       "  </thead>\n",
       "  <tbody>\n",
       "    <tr>\n",
       "      <th>count</th>\n",
       "      <td>662.000000</td>\n",
       "      <td>662.000000</td>\n",
       "      <td>662.000000</td>\n",
       "      <td>662.000000</td>\n",
       "      <td>662.000000</td>\n",
       "      <td>662.000000</td>\n",
       "      <td>662.000000</td>\n",
       "      <td>662.000000</td>\n",
       "      <td>662.000000</td>\n",
       "    </tr>\n",
       "    <tr>\n",
       "      <th>mean</th>\n",
       "      <td>2002.971299</td>\n",
       "      <td>34.691855</td>\n",
       "      <td>146.400523</td>\n",
       "      <td>2.648107</td>\n",
       "      <td>13.704552</td>\n",
       "      <td>38.198451</td>\n",
       "      <td>10.814764</td>\n",
       "      <td>4.655559</td>\n",
       "      <td>0.022768</td>\n",
       "    </tr>\n",
       "    <tr>\n",
       "      <th>std</th>\n",
       "      <td>11.247353</td>\n",
       "      <td>113.722467</td>\n",
       "      <td>325.506763</td>\n",
       "      <td>1.266532</td>\n",
       "      <td>0.513320</td>\n",
       "      <td>0.664335</td>\n",
       "      <td>0.833428</td>\n",
       "      <td>0.316360</td>\n",
       "      <td>0.002032</td>\n",
       "    </tr>\n",
       "    <tr>\n",
       "      <th>min</th>\n",
       "      <td>1984.000000</td>\n",
       "      <td>0.000000</td>\n",
       "      <td>0.000000</td>\n",
       "      <td>0.569202</td>\n",
       "      <td>12.912899</td>\n",
       "      <td>36.065840</td>\n",
       "      <td>8.575714</td>\n",
       "      <td>4.046891</td>\n",
       "      <td>0.017395</td>\n",
       "    </tr>\n",
       "    <tr>\n",
       "      <th>25%</th>\n",
       "      <td>1993.000000</td>\n",
       "      <td>0.164050</td>\n",
       "      <td>2.400387</td>\n",
       "      <td>1.539202</td>\n",
       "      <td>13.323992</td>\n",
       "      <td>37.835042</td>\n",
       "      <td>10.532143</td>\n",
       "      <td>4.430798</td>\n",
       "      <td>0.021513</td>\n",
       "    </tr>\n",
       "    <tr>\n",
       "      <th>50%</th>\n",
       "      <td>2003.000000</td>\n",
       "      <td>3.178017</td>\n",
       "      <td>31.147207</td>\n",
       "      <td>2.433950</td>\n",
       "      <td>13.475252</td>\n",
       "      <td>38.277857</td>\n",
       "      <td>10.822311</td>\n",
       "      <td>4.597311</td>\n",
       "      <td>0.023025</td>\n",
       "    </tr>\n",
       "    <tr>\n",
       "      <th>75%</th>\n",
       "      <td>2013.000000</td>\n",
       "      <td>9.338142</td>\n",
       "      <td>102.918440</td>\n",
       "      <td>3.851471</td>\n",
       "      <td>14.154118</td>\n",
       "      <td>38.682731</td>\n",
       "      <td>11.435756</td>\n",
       "      <td>4.859454</td>\n",
       "      <td>0.023824</td>\n",
       "    </tr>\n",
       "    <tr>\n",
       "      <th>max</th>\n",
       "      <td>2022.000000</td>\n",
       "      <td>668.435750</td>\n",
       "      <td>1678.995500</td>\n",
       "      <td>4.866513</td>\n",
       "      <td>14.854664</td>\n",
       "      <td>39.366891</td>\n",
       "      <td>12.475420</td>\n",
       "      <td>5.438403</td>\n",
       "      <td>0.027605</td>\n",
       "    </tr>\n",
       "  </tbody>\n",
       "</table>\n",
       "</div>"
      ],
      "text/plain": [
       "              Year  Production per capita (kg)  Land Use per capita (m²)  \\\n",
       "count   662.000000                  662.000000                662.000000   \n",
       "mean   2002.971299                   34.691855                146.400523   \n",
       "std      11.247353                  113.722467                325.506763   \n",
       "min    1984.000000                    0.000000                  0.000000   \n",
       "25%    1993.000000                    0.164050                  2.400387   \n",
       "50%    2003.000000                    3.178017                 31.147207   \n",
       "75%    2013.000000                    9.338142                102.918440   \n",
       "max    2022.000000                  668.435750               1678.995500   \n",
       "\n",
       "       Precipitation    Humidity    Max_Temp    Min_Temp    Max_Wind  \\\n",
       "count     662.000000  662.000000  662.000000  662.000000  662.000000   \n",
       "mean        2.648107   13.704552   38.198451   10.814764    4.655559   \n",
       "std         1.266532    0.513320    0.664335    0.833428    0.316360   \n",
       "min         0.569202   12.912899   36.065840    8.575714    4.046891   \n",
       "25%         1.539202   13.323992   37.835042   10.532143    4.430798   \n",
       "50%         2.433950   13.475252   38.277857   10.822311    4.597311   \n",
       "75%         3.851471   14.154118   38.682731   11.435756    4.859454   \n",
       "max         4.866513   14.854664   39.366891   12.475420    5.438403   \n",
       "\n",
       "         Min_Wind  \n",
       "count  662.000000  \n",
       "mean     0.022768  \n",
       "std      0.002032  \n",
       "min      0.017395  \n",
       "25%      0.021513  \n",
       "50%      0.023025  \n",
       "75%      0.023824  \n",
       "max      0.027605  "
      ]
     },
     "execution_count": 75,
     "metadata": {},
     "output_type": "execute_result"
    }
   ],
   "source": [
    "df_final.describe()"
   ]
  },
  {
   "cell_type": "markdown",
   "metadata": {},
   "source": [
    "### Adding New Features"
   ]
  },
  {
   "cell_type": "markdown",
   "metadata": {},
   "source": [
    "Added average temperature by calculating max and min temperature"
   ]
  },
  {
   "cell_type": "code",
   "execution_count": 76,
   "metadata": {},
   "outputs": [],
   "source": [
    "df_final['Avg_Temp'] = (df_final['Max_Temp'] + df_final['Min_Temp']) / 2\n"
   ]
  },
  {
   "cell_type": "markdown",
   "metadata": {},
   "source": [
    "Added average wind speed by calculating max and min wind speed"
   ]
  },
  {
   "cell_type": "code",
   "execution_count": 77,
   "metadata": {},
   "outputs": [],
   "source": [
    "df_final['Avg_Wind'] = (df_final['Max_Wind'] + df_final['Min_Wind']) / 2\n"
   ]
  },
  {
   "cell_type": "code",
   "execution_count": 78,
   "metadata": {},
   "outputs": [
    {
     "data": {
      "text/html": [
       "<div>\n",
       "<style scoped>\n",
       "    .dataframe tbody tr th:only-of-type {\n",
       "        vertical-align: middle;\n",
       "    }\n",
       "\n",
       "    .dataframe tbody tr th {\n",
       "        vertical-align: top;\n",
       "    }\n",
       "\n",
       "    .dataframe thead th {\n",
       "        text-align: right;\n",
       "    }\n",
       "</style>\n",
       "<table border=\"1\" class=\"dataframe\">\n",
       "  <thead>\n",
       "    <tr style=\"text-align: right;\">\n",
       "      <th></th>\n",
       "      <th>Country</th>\n",
       "      <th>Year</th>\n",
       "      <th>Production per capita (kg)</th>\n",
       "      <th>Categories</th>\n",
       "      <th>Land Use per capita (m²)</th>\n",
       "      <th>Precipitation</th>\n",
       "      <th>Humidity</th>\n",
       "      <th>Max_Temp</th>\n",
       "      <th>Min_Temp</th>\n",
       "      <th>Max_Wind</th>\n",
       "      <th>Min_Wind</th>\n",
       "      <th>Avg_Temp</th>\n",
       "      <th>Avg_Wind</th>\n",
       "    </tr>\n",
       "  </thead>\n",
       "  <tbody>\n",
       "    <tr>\n",
       "      <th>0</th>\n",
       "      <td>Myanmar</td>\n",
       "      <td>1984</td>\n",
       "      <td>0.000000</td>\n",
       "      <td>barley</td>\n",
       "      <td>0.000000</td>\n",
       "      <td>2.755</td>\n",
       "      <td>13.374664</td>\n",
       "      <td>37.729076</td>\n",
       "      <td>10.941555</td>\n",
       "      <td>4.363655</td>\n",
       "      <td>0.021975</td>\n",
       "      <td>24.335315</td>\n",
       "      <td>2.192815</td>\n",
       "    </tr>\n",
       "    <tr>\n",
       "      <th>1</th>\n",
       "      <td>Myanmar</td>\n",
       "      <td>1984</td>\n",
       "      <td>9.900485</td>\n",
       "      <td>bean</td>\n",
       "      <td>114.602260</td>\n",
       "      <td>2.755</td>\n",
       "      <td>13.374664</td>\n",
       "      <td>37.729076</td>\n",
       "      <td>10.941555</td>\n",
       "      <td>4.363655</td>\n",
       "      <td>0.021975</td>\n",
       "      <td>24.335315</td>\n",
       "      <td>2.192815</td>\n",
       "    </tr>\n",
       "    <tr>\n",
       "      <th>2</th>\n",
       "      <td>Myanmar</td>\n",
       "      <td>1984</td>\n",
       "      <td>4.792775</td>\n",
       "      <td>chickpea</td>\n",
       "      <td>53.678607</td>\n",
       "      <td>2.755</td>\n",
       "      <td>13.374664</td>\n",
       "      <td>37.729076</td>\n",
       "      <td>10.941555</td>\n",
       "      <td>4.363655</td>\n",
       "      <td>0.021975</td>\n",
       "      <td>24.335315</td>\n",
       "      <td>2.192815</td>\n",
       "    </tr>\n",
       "    <tr>\n",
       "      <th>3</th>\n",
       "      <td>Myanmar</td>\n",
       "      <td>1984</td>\n",
       "      <td>0.033656</td>\n",
       "      <td>coffee</td>\n",
       "      <td>0.762171</td>\n",
       "      <td>2.755</td>\n",
       "      <td>13.374664</td>\n",
       "      <td>37.729076</td>\n",
       "      <td>10.941555</td>\n",
       "      <td>4.363655</td>\n",
       "      <td>0.021975</td>\n",
       "      <td>24.335315</td>\n",
       "      <td>2.192815</td>\n",
       "    </tr>\n",
       "    <tr>\n",
       "      <th>4</th>\n",
       "      <td>Myanmar</td>\n",
       "      <td>1984</td>\n",
       "      <td>14.700534</td>\n",
       "      <td>groundnut</td>\n",
       "      <td>144.845760</td>\n",
       "      <td>2.755</td>\n",
       "      <td>13.374664</td>\n",
       "      <td>37.729076</td>\n",
       "      <td>10.941555</td>\n",
       "      <td>4.363655</td>\n",
       "      <td>0.021975</td>\n",
       "      <td>24.335315</td>\n",
       "      <td>2.192815</td>\n",
       "    </tr>\n",
       "  </tbody>\n",
       "</table>\n",
       "</div>"
      ],
      "text/plain": [
       "   Country  Year  Production per capita (kg) Categories  \\\n",
       "0  Myanmar  1984                    0.000000     barley   \n",
       "1  Myanmar  1984                    9.900485       bean   \n",
       "2  Myanmar  1984                    4.792775   chickpea   \n",
       "3  Myanmar  1984                    0.033656     coffee   \n",
       "4  Myanmar  1984                   14.700534  groundnut   \n",
       "\n",
       "   Land Use per capita (m²)  Precipitation   Humidity   Max_Temp   Min_Temp  \\\n",
       "0                  0.000000          2.755  13.374664  37.729076  10.941555   \n",
       "1                114.602260          2.755  13.374664  37.729076  10.941555   \n",
       "2                 53.678607          2.755  13.374664  37.729076  10.941555   \n",
       "3                  0.762171          2.755  13.374664  37.729076  10.941555   \n",
       "4                144.845760          2.755  13.374664  37.729076  10.941555   \n",
       "\n",
       "   Max_Wind  Min_Wind   Avg_Temp  Avg_Wind  \n",
       "0  4.363655  0.021975  24.335315  2.192815  \n",
       "1  4.363655  0.021975  24.335315  2.192815  \n",
       "2  4.363655  0.021975  24.335315  2.192815  \n",
       "3  4.363655  0.021975  24.335315  2.192815  \n",
       "4  4.363655  0.021975  24.335315  2.192815  "
      ]
     },
     "execution_count": 78,
     "metadata": {},
     "output_type": "execute_result"
    }
   ],
   "source": [
    "df_final.head()\n"
   ]
  },
  {
   "cell_type": "markdown",
   "metadata": {},
   "source": [
    "### Scaling Weather Features with MinMaxScaler"
   ]
  },
  {
   "cell_type": "markdown",
   "metadata": {},
   "source": [
    "Scaled the values of the weather features to a range between 0 and 1 (default) to prevents features with larger ranges from influencing with smaller ranges."
   ]
  },
  {
   "cell_type": "code",
   "execution_count": 79,
   "metadata": {},
   "outputs": [],
   "source": [
    "weather_features = ['Precipitation', 'Humidity', 'Max_Temp', 'Min_Temp', 'Max_Wind', 'Min_Wind', 'Avg_Temp', 'Avg_Wind']\n",
    "\n",
    "scaler = MinMaxScaler()\n",
    "df_final[weather_features] = scaler.fit_transform(df_final[weather_features])"
   ]
  },
  {
   "cell_type": "markdown",
   "metadata": {},
   "source": [
    "### Uploading final transformed dataset on Mongo DB"
   ]
  },
  {
   "cell_type": "markdown",
   "metadata": {},
   "source": [
    "uploaded final datasets. If the datasets are already uploaded, this step can be skipped."
   ]
  },
  {
   "cell_type": "code",
   "execution_count": 81,
   "metadata": {},
   "outputs": [
    {
     "name": "stdout",
     "output_type": "stream",
     "text": [
      "Final data inserted successfully!\n"
     ]
    }
   ],
   "source": [
    "try:\n",
    "\n",
    "    # Insert Combined data\n",
    "    final_collection = db['final']  # Collection name\n",
    "    final_collection.insert_many(df_final.to_dict('records'))\n",
    "    print(\"Final data inserted successfully!\")\n",
    "\n",
    "except OperationFailure as e:\n",
    "    print(f\"Operation failed: {e}\")\n",
    "except Exception as e:\n",
    "    print(f\"An error occurred: {e}\")\n"
   ]
  },
  {
   "cell_type": "code",
   "execution_count": 82,
   "metadata": {},
   "outputs": [
    {
     "data": {
      "text/html": [
       "<div>\n",
       "<style scoped>\n",
       "    .dataframe tbody tr th:only-of-type {\n",
       "        vertical-align: middle;\n",
       "    }\n",
       "\n",
       "    .dataframe tbody tr th {\n",
       "        vertical-align: top;\n",
       "    }\n",
       "\n",
       "    .dataframe thead th {\n",
       "        text-align: right;\n",
       "    }\n",
       "</style>\n",
       "<table border=\"1\" class=\"dataframe\">\n",
       "  <thead>\n",
       "    <tr style=\"text-align: right;\">\n",
       "      <th></th>\n",
       "      <th>Country</th>\n",
       "      <th>Year</th>\n",
       "      <th>Production per capita (kg)</th>\n",
       "      <th>Categories</th>\n",
       "      <th>Land Use per capita (m²)</th>\n",
       "      <th>Precipitation</th>\n",
       "      <th>Humidity</th>\n",
       "      <th>Max_Temp</th>\n",
       "      <th>Min_Temp</th>\n",
       "      <th>Max_Wind</th>\n",
       "      <th>Min_Wind</th>\n",
       "      <th>Avg_Temp</th>\n",
       "      <th>Avg_Wind</th>\n",
       "    </tr>\n",
       "  </thead>\n",
       "  <tbody>\n",
       "    <tr>\n",
       "      <th>0</th>\n",
       "      <td>Myanmar</td>\n",
       "      <td>1984</td>\n",
       "      <td>0.000000</td>\n",
       "      <td>barley</td>\n",
       "      <td>0.000000</td>\n",
       "      <td>0.508643</td>\n",
       "      <td>0.237807</td>\n",
       "      <td>0.50385</td>\n",
       "      <td>0.606671</td>\n",
       "      <td>0.227641</td>\n",
       "      <td>0.44856</td>\n",
       "      <td>0.438572</td>\n",
       "      <td>0.225783</td>\n",
       "    </tr>\n",
       "    <tr>\n",
       "      <th>1</th>\n",
       "      <td>Myanmar</td>\n",
       "      <td>1984</td>\n",
       "      <td>9.900485</td>\n",
       "      <td>bean</td>\n",
       "      <td>114.602260</td>\n",
       "      <td>0.508643</td>\n",
       "      <td>0.237807</td>\n",
       "      <td>0.50385</td>\n",
       "      <td>0.606671</td>\n",
       "      <td>0.227641</td>\n",
       "      <td>0.44856</td>\n",
       "      <td>0.438572</td>\n",
       "      <td>0.225783</td>\n",
       "    </tr>\n",
       "    <tr>\n",
       "      <th>2</th>\n",
       "      <td>Myanmar</td>\n",
       "      <td>1984</td>\n",
       "      <td>4.792775</td>\n",
       "      <td>chickpea</td>\n",
       "      <td>53.678607</td>\n",
       "      <td>0.508643</td>\n",
       "      <td>0.237807</td>\n",
       "      <td>0.50385</td>\n",
       "      <td>0.606671</td>\n",
       "      <td>0.227641</td>\n",
       "      <td>0.44856</td>\n",
       "      <td>0.438572</td>\n",
       "      <td>0.225783</td>\n",
       "    </tr>\n",
       "    <tr>\n",
       "      <th>3</th>\n",
       "      <td>Myanmar</td>\n",
       "      <td>1984</td>\n",
       "      <td>0.033656</td>\n",
       "      <td>coffee</td>\n",
       "      <td>0.762171</td>\n",
       "      <td>0.508643</td>\n",
       "      <td>0.237807</td>\n",
       "      <td>0.50385</td>\n",
       "      <td>0.606671</td>\n",
       "      <td>0.227641</td>\n",
       "      <td>0.44856</td>\n",
       "      <td>0.438572</td>\n",
       "      <td>0.225783</td>\n",
       "    </tr>\n",
       "    <tr>\n",
       "      <th>4</th>\n",
       "      <td>Myanmar</td>\n",
       "      <td>1984</td>\n",
       "      <td>14.700534</td>\n",
       "      <td>groundnut</td>\n",
       "      <td>144.845760</td>\n",
       "      <td>0.508643</td>\n",
       "      <td>0.237807</td>\n",
       "      <td>0.50385</td>\n",
       "      <td>0.606671</td>\n",
       "      <td>0.227641</td>\n",
       "      <td>0.44856</td>\n",
       "      <td>0.438572</td>\n",
       "      <td>0.225783</td>\n",
       "    </tr>\n",
       "  </tbody>\n",
       "</table>\n",
       "</div>"
      ],
      "text/plain": [
       "   Country  Year  Production per capita (kg) Categories  \\\n",
       "0  Myanmar  1984                    0.000000     barley   \n",
       "1  Myanmar  1984                    9.900485       bean   \n",
       "2  Myanmar  1984                    4.792775   chickpea   \n",
       "3  Myanmar  1984                    0.033656     coffee   \n",
       "4  Myanmar  1984                   14.700534  groundnut   \n",
       "\n",
       "   Land Use per capita (m²)  Precipitation  Humidity  Max_Temp  Min_Temp  \\\n",
       "0                  0.000000       0.508643  0.237807   0.50385  0.606671   \n",
       "1                114.602260       0.508643  0.237807   0.50385  0.606671   \n",
       "2                 53.678607       0.508643  0.237807   0.50385  0.606671   \n",
       "3                  0.762171       0.508643  0.237807   0.50385  0.606671   \n",
       "4                144.845760       0.508643  0.237807   0.50385  0.606671   \n",
       "\n",
       "   Max_Wind  Min_Wind  Avg_Temp  Avg_Wind  \n",
       "0  0.227641   0.44856  0.438572  0.225783  \n",
       "1  0.227641   0.44856  0.438572  0.225783  \n",
       "2  0.227641   0.44856  0.438572  0.225783  \n",
       "3  0.227641   0.44856  0.438572  0.225783  \n",
       "4  0.227641   0.44856  0.438572  0.225783  "
      ]
     },
     "execution_count": 82,
     "metadata": {},
     "output_type": "execute_result"
    }
   ],
   "source": [
    "df_final.head()"
   ]
  },
  {
   "cell_type": "markdown",
   "metadata": {},
   "source": [
    "### Visualization with Boxplot"
   ]
  },
  {
   "cell_type": "code",
   "execution_count": 83,
   "metadata": {},
   "outputs": [
    {
     "data": {
      "image/png": "[encoded data removed]",
      "text/plain": [
       "<Figure size 1200x600 with 1 Axes>"
      ]
     },
     "metadata": {},
     "output_type": "display_data"
    }
   ],
   "source": [
    "plt.figure(figsize=(12, 6))\n",
    "sns.boxplot(x='Categories', y='Production per capita (kg)', data=df_final)\n",
    "plt.title('Distribution and Outliers in Production per Category')\n",
    "plt.xticks(rotation=45)\n",
    "plt.grid(True)\n",
    "plt.show()"
   ]
  },
  {
   "cell_type": "markdown",
   "metadata": {},
   "source": [
    "This visualization is showing the data distribution and outliers in production per capita (kg) across different grain categores. Rice and cereal have significatly higer production rates than other grains. "
   ]
  },
  {
   "cell_type": "markdown",
   "metadata": {},
   "source": [
    "### Visualization with Barplot"
   ]
  },
  {
   "cell_type": "code",
   "execution_count": 84,
   "metadata": {},
   "outputs": [
    {
     "data": {
      "image/png": "[encoded data removed]",
      "text/plain": [
       "<Figure size 1200x600 with 2 Axes>"
      ]
     },
     "metadata": {},
     "output_type": "display_data"
    }
   ],
   "source": [
    "plt.figure(figsize=(12, 6))\n",
    "sns.barplot(data=df_final, x='Categories', y='Production per capita (kg)', color='skyblue', label='Production per capita')\n",
    "ax2 = plt.twinx() \n",
    "sns.lineplot(data=df_final, x='Categories', y='Land Use per capita (m²)', color='orange', label='Land Use per capita', marker='o', ax=ax2)\n",
    "plt.title('Relationship between Production and Land Use per Capita by Category')\n",
    "plt.xticks(rotation=45)\n",
    "plt.legend(loc='upper left')\n",
    "ax2.legend(loc='upper right')\n",
    "plt.tight_layout()\n",
    "plt.show()"
   ]
  },
  {
   "cell_type": "markdown",
   "metadata": {},
   "source": [
    "This is showing relationship between grains production and land Use. Rice is playing a major role in Myanmar agricultural as show output. Millet, sorghum and sunflower seed have low production indicating inefficient farming practices. "
   ]
  },
  {
   "cell_type": "markdown",
   "metadata": {},
   "source": [
    "### Visualization with Boxplot"
   ]
  },
  {
   "cell_type": "code",
   "execution_count": 85,
   "metadata": {},
   "outputs": [
    {
     "data": {
      "image/png": "[encoded data removed]",
      "text/plain": [
       "<Figure size 1500x1000 with 1 Axes>"
      ]
     },
     "metadata": {},
     "output_type": "display_data"
    }
   ],
   "source": [
    "# Boxplot for weather features\n",
    "weather_features = ['Precipitation', 'Humidity', 'Max_Temp', 'Min_Temp', 'Max_Wind', 'Min_Wind', 'Avg_Temp', 'Avg_Wind']\n",
    "plt.figure(figsize=(15, 10))\n",
    "sns.boxplot(data=df_final[weather_features])\n",
    "plt.xticks(rotation=45)\n",
    "plt.title('Distribution of Weather Features')\n",
    "plt.show()"
   ]
  },
  {
   "cell_type": "markdown",
   "metadata": {},
   "source": [
    "There are a few of outlier in weather data. I ignore them because these are related real world events. Sometimes, weather data can happen extreme events. "
   ]
  },
  {
   "cell_type": "markdown",
   "metadata": {},
   "source": [
    "### Visualization using HeatMap"
   ]
  },
  {
   "cell_type": "code",
   "execution_count": 86,
   "metadata": {},
   "outputs": [
    {
     "data": {
      "image/png": "[encoded data removed]",
      "text/plain": [
       "<Figure size 1000x800 with 2 Axes>"
      ]
     },
     "metadata": {},
     "output_type": "display_data"
    }
   ],
   "source": [
    "numerical_features = df_final.drop(['Country', 'Categories'], axis=1)\n",
    "\n",
    "plt.figure(figsize=(10, 8))\n",
    "correlation = numerical_features.corr()\n",
    "sns.heatmap(correlation, annot=True, cmap=\"coolwarm\", fmt=\".2f\")\n",
    "plt.title('Correlation Heatmap')\n",
    "plt.show()"
   ]
  },
  {
   "cell_type": "markdown",
   "metadata": {},
   "source": [
    "In the heatmap output, production and land use have high correlation which indicating the higher production requires lager land usage. Production has weak correlations with weather features such as Precipitation, Humidity and Temperature. "
   ]
  },
  {
   "cell_type": "markdown",
   "metadata": {},
   "source": [
    "### Encoding Categories feature to create Model "
   ]
  },
  {
   "cell_type": "code",
   "execution_count": 87,
   "metadata": {},
   "outputs": [
    {
     "data": {
      "text/html": [
       "<div>\n",
       "<style scoped>\n",
       "    .dataframe tbody tr th:only-of-type {\n",
       "        vertical-align: middle;\n",
       "    }\n",
       "\n",
       "    .dataframe tbody tr th {\n",
       "        vertical-align: top;\n",
       "    }\n",
       "\n",
       "    .dataframe thead th {\n",
       "        text-align: right;\n",
       "    }\n",
       "</style>\n",
       "<table border=\"1\" class=\"dataframe\">\n",
       "  <thead>\n",
       "    <tr style=\"text-align: right;\">\n",
       "      <th></th>\n",
       "      <th>Country</th>\n",
       "      <th>Year</th>\n",
       "      <th>Production per capita (kg)</th>\n",
       "      <th>Categories</th>\n",
       "      <th>Land Use per capita (m²)</th>\n",
       "      <th>Precipitation</th>\n",
       "      <th>Humidity</th>\n",
       "      <th>Max_Temp</th>\n",
       "      <th>Min_Temp</th>\n",
       "      <th>Max_Wind</th>\n",
       "      <th>Min_Wind</th>\n",
       "      <th>Avg_Temp</th>\n",
       "      <th>Avg_Wind</th>\n",
       "      <th>Categories_lable</th>\n",
       "    </tr>\n",
       "  </thead>\n",
       "  <tbody>\n",
       "    <tr>\n",
       "      <th>0</th>\n",
       "      <td>Myanmar</td>\n",
       "      <td>1984</td>\n",
       "      <td>0.000000</td>\n",
       "      <td>barley</td>\n",
       "      <td>0.000000</td>\n",
       "      <td>0.508643</td>\n",
       "      <td>0.237807</td>\n",
       "      <td>0.503850</td>\n",
       "      <td>0.606671</td>\n",
       "      <td>0.227641</td>\n",
       "      <td>0.44856</td>\n",
       "      <td>0.438572</td>\n",
       "      <td>0.225783</td>\n",
       "      <td>0</td>\n",
       "    </tr>\n",
       "    <tr>\n",
       "      <th>1</th>\n",
       "      <td>Myanmar</td>\n",
       "      <td>1984</td>\n",
       "      <td>9.900485</td>\n",
       "      <td>bean</td>\n",
       "      <td>114.602260</td>\n",
       "      <td>0.508643</td>\n",
       "      <td>0.237807</td>\n",
       "      <td>0.503850</td>\n",
       "      <td>0.606671</td>\n",
       "      <td>0.227641</td>\n",
       "      <td>0.44856</td>\n",
       "      <td>0.438572</td>\n",
       "      <td>0.225783</td>\n",
       "      <td>1</td>\n",
       "    </tr>\n",
       "    <tr>\n",
       "      <th>2</th>\n",
       "      <td>Myanmar</td>\n",
       "      <td>1984</td>\n",
       "      <td>4.792775</td>\n",
       "      <td>chickpea</td>\n",
       "      <td>53.678607</td>\n",
       "      <td>0.508643</td>\n",
       "      <td>0.237807</td>\n",
       "      <td>0.503850</td>\n",
       "      <td>0.606671</td>\n",
       "      <td>0.227641</td>\n",
       "      <td>0.44856</td>\n",
       "      <td>0.438572</td>\n",
       "      <td>0.225783</td>\n",
       "      <td>2</td>\n",
       "    </tr>\n",
       "    <tr>\n",
       "      <th>3</th>\n",
       "      <td>Myanmar</td>\n",
       "      <td>1984</td>\n",
       "      <td>0.033656</td>\n",
       "      <td>coffee</td>\n",
       "      <td>0.762171</td>\n",
       "      <td>0.508643</td>\n",
       "      <td>0.237807</td>\n",
       "      <td>0.503850</td>\n",
       "      <td>0.606671</td>\n",
       "      <td>0.227641</td>\n",
       "      <td>0.44856</td>\n",
       "      <td>0.438572</td>\n",
       "      <td>0.225783</td>\n",
       "      <td>3</td>\n",
       "    </tr>\n",
       "    <tr>\n",
       "      <th>4</th>\n",
       "      <td>Myanmar</td>\n",
       "      <td>1984</td>\n",
       "      <td>14.700534</td>\n",
       "      <td>groundnut</td>\n",
       "      <td>144.845760</td>\n",
       "      <td>0.508643</td>\n",
       "      <td>0.237807</td>\n",
       "      <td>0.503850</td>\n",
       "      <td>0.606671</td>\n",
       "      <td>0.227641</td>\n",
       "      <td>0.44856</td>\n",
       "      <td>0.438572</td>\n",
       "      <td>0.225783</td>\n",
       "      <td>4</td>\n",
       "    </tr>\n",
       "    <tr>\n",
       "      <th>...</th>\n",
       "      <td>...</td>\n",
       "      <td>...</td>\n",
       "      <td>...</td>\n",
       "      <td>...</td>\n",
       "      <td>...</td>\n",
       "      <td>...</td>\n",
       "      <td>...</td>\n",
       "      <td>...</td>\n",
       "      <td>...</td>\n",
       "      <td>...</td>\n",
       "      <td>...</td>\n",
       "      <td>...</td>\n",
       "      <td>...</td>\n",
       "      <td>...</td>\n",
       "    </tr>\n",
       "    <tr>\n",
       "      <th>657</th>\n",
       "      <td>Myanmar</td>\n",
       "      <td>2022</td>\n",
       "      <td>14.044581</td>\n",
       "      <td>sesame seed</td>\n",
       "      <td>283.918700</td>\n",
       "      <td>0.939477</td>\n",
       "      <td>0.916692</td>\n",
       "      <td>0.335709</td>\n",
       "      <td>0.537640</td>\n",
       "      <td>0.127906</td>\n",
       "      <td>0.00000</td>\n",
       "      <td>0.258621</td>\n",
       "      <td>0.122916</td>\n",
       "      <td>12</td>\n",
       "    </tr>\n",
       "    <tr>\n",
       "      <th>658</th>\n",
       "      <td>Myanmar</td>\n",
       "      <td>2022</td>\n",
       "      <td>3.172183</td>\n",
       "      <td>sorghum</td>\n",
       "      <td>30.752330</td>\n",
       "      <td>0.939477</td>\n",
       "      <td>0.916692</td>\n",
       "      <td>0.335709</td>\n",
       "      <td>0.537640</td>\n",
       "      <td>0.127906</td>\n",
       "      <td>0.00000</td>\n",
       "      <td>0.258621</td>\n",
       "      <td>0.122916</td>\n",
       "      <td>13</td>\n",
       "    </tr>\n",
       "    <tr>\n",
       "      <th>659</th>\n",
       "      <td>Myanmar</td>\n",
       "      <td>2022</td>\n",
       "      <td>2.422020</td>\n",
       "      <td>soybean</td>\n",
       "      <td>23.406905</td>\n",
       "      <td>0.939477</td>\n",
       "      <td>0.916692</td>\n",
       "      <td>0.335709</td>\n",
       "      <td>0.537640</td>\n",
       "      <td>0.127906</td>\n",
       "      <td>0.00000</td>\n",
       "      <td>0.258621</td>\n",
       "      <td>0.122916</td>\n",
       "      <td>14</td>\n",
       "    </tr>\n",
       "    <tr>\n",
       "      <th>660</th>\n",
       "      <td>Myanmar</td>\n",
       "      <td>2022</td>\n",
       "      <td>3.820456</td>\n",
       "      <td>sunflower seed</td>\n",
       "      <td>41.325735</td>\n",
       "      <td>0.939477</td>\n",
       "      <td>0.916692</td>\n",
       "      <td>0.335709</td>\n",
       "      <td>0.537640</td>\n",
       "      <td>0.127906</td>\n",
       "      <td>0.00000</td>\n",
       "      <td>0.258621</td>\n",
       "      <td>0.122916</td>\n",
       "      <td>15</td>\n",
       "    </tr>\n",
       "    <tr>\n",
       "      <th>661</th>\n",
       "      <td>Myanmar</td>\n",
       "      <td>2022</td>\n",
       "      <td>1.845723</td>\n",
       "      <td>wheat</td>\n",
       "      <td>12.920061</td>\n",
       "      <td>0.939477</td>\n",
       "      <td>0.916692</td>\n",
       "      <td>0.335709</td>\n",
       "      <td>0.537640</td>\n",
       "      <td>0.127906</td>\n",
       "      <td>0.00000</td>\n",
       "      <td>0.258621</td>\n",
       "      <td>0.122916</td>\n",
       "      <td>16</td>\n",
       "    </tr>\n",
       "  </tbody>\n",
       "</table>\n",
       "<p>662 rows × 14 columns</p>\n",
       "</div>"
      ],
      "text/plain": [
       "     Country  Year  Production per capita (kg)      Categories  \\\n",
       "0    Myanmar  1984                    0.000000          barley   \n",
       "1    Myanmar  1984                    9.900485            bean   \n",
       "2    Myanmar  1984                    4.792775        chickpea   \n",
       "3    Myanmar  1984                    0.033656          coffee   \n",
       "4    Myanmar  1984                   14.700534       groundnut   \n",
       "..       ...   ...                         ...             ...   \n",
       "657  Myanmar  2022                   14.044581     sesame seed   \n",
       "658  Myanmar  2022                    3.172183         sorghum   \n",
       "659  Myanmar  2022                    2.422020         soybean   \n",
       "660  Myanmar  2022                    3.820456  sunflower seed   \n",
       "661  Myanmar  2022                    1.845723           wheat   \n",
       "\n",
       "     Land Use per capita (m²)  Precipitation  Humidity  Max_Temp  Min_Temp  \\\n",
       "0                    0.000000       0.508643  0.237807  0.503850  0.606671   \n",
       "1                  114.602260       0.508643  0.237807  0.503850  0.606671   \n",
       "2                   53.678607       0.508643  0.237807  0.503850  0.606671   \n",
       "3                    0.762171       0.508643  0.237807  0.503850  0.606671   \n",
       "4                  144.845760       0.508643  0.237807  0.503850  0.606671   \n",
       "..                        ...            ...       ...       ...       ...   \n",
       "657                283.918700       0.939477  0.916692  0.335709  0.537640   \n",
       "658                 30.752330       0.939477  0.916692  0.335709  0.537640   \n",
       "659                 23.406905       0.939477  0.916692  0.335709  0.537640   \n",
       "660                 41.325735       0.939477  0.916692  0.335709  0.537640   \n",
       "661                 12.920061       0.939477  0.916692  0.335709  0.537640   \n",
       "\n",
       "     Max_Wind  Min_Wind  Avg_Temp  Avg_Wind  Categories_lable  \n",
       "0    0.227641   0.44856  0.438572  0.225783                 0  \n",
       "1    0.227641   0.44856  0.438572  0.225783                 1  \n",
       "2    0.227641   0.44856  0.438572  0.225783                 2  \n",
       "3    0.227641   0.44856  0.438572  0.225783                 3  \n",
       "4    0.227641   0.44856  0.438572  0.225783                 4  \n",
       "..        ...       ...       ...       ...               ...  \n",
       "657  0.127906   0.00000  0.258621  0.122916                12  \n",
       "658  0.127906   0.00000  0.258621  0.122916                13  \n",
       "659  0.127906   0.00000  0.258621  0.122916                14  \n",
       "660  0.127906   0.00000  0.258621  0.122916                15  \n",
       "661  0.127906   0.00000  0.258621  0.122916                16  \n",
       "\n",
       "[662 rows x 14 columns]"
      ]
     },
     "execution_count": 87,
     "metadata": {},
     "output_type": "execute_result"
    }
   ],
   "source": [
    "from sklearn.preprocessing import LabelEncoder\n",
    "\n",
    "encoder = LabelEncoder()\n",
    "df_final['Categories_lable'] = encoder.fit_transform(df_final['Categories'])\n",
    "df_final"
   ]
  },
  {
   "cell_type": "markdown",
   "metadata": {},
   "source": [
    "### Splitting dataset into Training data and Testing data"
   ]
  },
  {
   "cell_type": "code",
   "execution_count": 88,
   "metadata": {},
   "outputs": [],
   "source": [
    "X = df_final.drop(['Country', 'Categories', 'Production per capita (kg)'], axis=1)\n",
    "y = df_final['Production per capita (kg)']\n",
    "\n",
    "X_train, X_test, y_train, y_test = train_test_split(X, y, test_size=0.2, random_state=42)"
   ]
  },
  {
   "cell_type": "markdown",
   "metadata": {},
   "source": [
    "### Model Training using Linear Regression "
   ]
  },
  {
   "cell_type": "code",
   "execution_count": 89,
   "metadata": {},
   "outputs": [],
   "source": [
    "from sklearn.linear_model import LinearRegression\n",
    "model = LinearRegression()\n",
    "model.fit(X_train, y_train)\n",
    "y_pred = model.predict(X_test)"
   ]
  },
  {
   "cell_type": "markdown",
   "metadata": {},
   "source": [
    "### Evaluation of Linear Regression Model"
   ]
  },
  {
   "cell_type": "code",
   "execution_count": 90,
   "metadata": {},
   "outputs": [
    {
     "name": "stdout",
     "output_type": "stream",
     "text": [
      "Mean Squared Error: 913.8369598355255\n",
      "R2 Score: 0.8912999374198574\n",
      "Root Mean Squared Error: 30.229736350744535\n"
     ]
    }
   ],
   "source": [
    "\n",
    "print(\"Mean Squared Error:\", mean_squared_error(y_test, y_pred))\n",
    "print(\"R2 Score:\", r2_score(y_test, y_pred))\n",
    "print(\"Root Mean Squared Error:\", np.sqrt(mean_squared_error(y_test, y_pred)))"
   ]
  },
  {
   "cell_type": "markdown",
   "metadata": {},
   "source": [
    " ### Model Training using Random Forest Regression "
   ]
  },
  {
   "cell_type": "code",
   "execution_count": 91,
   "metadata": {},
   "outputs": [],
   "source": [
    "from sklearn.ensemble import RandomForestRegressor\n",
    "model = RandomForestRegressor(n_estimators=100, random_state=42)\n",
    "model.fit(X_train, y_train)\n",
    "y_pred = model.predict(X_test)"
   ]
  },
  {
   "cell_type": "markdown",
   "metadata": {},
   "source": [
    "### Evlauation of Random Forest Regression"
   ]
  },
  {
   "cell_type": "code",
   "execution_count": 92,
   "metadata": {},
   "outputs": [
    {
     "name": "stdout",
     "output_type": "stream",
     "text": [
      "Mean Squared Error: 5.652554284528659\n",
      "R2 Score: 0.9993276338871471\n",
      "Root Mean Squared Error: 2.37751010187731\n"
     ]
    }
   ],
   "source": [
    "print(\"Mean Squared Error:\", mean_squared_error(y_test, y_pred))\n",
    "print(\"R2 Score:\", r2_score(y_test, y_pred))\n",
    "print(\"Root Mean Squared Error:\", np.sqrt(mean_squared_error(y_test, y_pred)))"
   ]
  },
  {
   "cell_type": "markdown",
   "metadata": {},
   "source": [
    "### Model Training Gradient Boosting Regression"
   ]
  },
  {
   "cell_type": "code",
   "execution_count": 93,
   "metadata": {},
   "outputs": [],
   "source": [
    "from sklearn.ensemble import GradientBoostingRegressor\n",
    "model = GradientBoostingRegressor(n_estimators=100, learning_rate=0.1, random_state=42)\n",
    "model.fit(X_train, y_train)\n",
    "y_pred = model.predict(X_test)"
   ]
  },
  {
   "cell_type": "markdown",
   "metadata": {},
   "source": [
    "### Evaluation Gradient Boosting Regression "
   ]
  },
  {
   "cell_type": "code",
   "execution_count": 94,
   "metadata": {},
   "outputs": [
    {
     "name": "stdout",
     "output_type": "stream",
     "text": [
      "Mean Squared Error: 6.78170262069796\n",
      "R2 Score: 0.99919332273516\n",
      "Root Mean Squared Error: 2.6041702365048947\n"
     ]
    }
   ],
   "source": [
    "print(\"Mean Squared Error:\", mean_squared_error(y_test, y_pred))\n",
    "print(\"R2 Score:\", r2_score(y_test, y_pred))\n",
    "print(\"Root Mean Squared Error:\", np.sqrt(mean_squared_error(y_test, y_pred)))"
   ]
  },
  {
   "cell_type": "markdown",
   "metadata": {},
   "source": [
    "### Model Training  using SVR "
   ]
  },
  {
   "cell_type": "code",
   "execution_count": 95,
   "metadata": {},
   "outputs": [],
   "source": [
    "# Create and fit the SVR model\n",
    "svm_model = SVR(kernel='rbf', C=1.0, epsilon=0.1)  # RBF kernel is commonly used for non-linear data\n",
    "svm_model.fit(X_train, y_train)\n",
    "# Predict on test data\n",
    "y_pred = svm_model.predict(X_test)\n"
   ]
  },
  {
   "cell_type": "markdown",
   "metadata": {},
   "source": [
    "### Evaluation of SVR model \n"
   ]
  },
  {
   "cell_type": "code",
   "execution_count": 96,
   "metadata": {},
   "outputs": [
    {
     "name": "stdout",
     "output_type": "stream",
     "text": [
      "Mean Squared Error: 7449.208415083454\n",
      "R2 Score: 0.11392353726004467\n",
      "Root Mean Squared Error: 86.30879685804602\n"
     ]
    }
   ],
   "source": [
    "print(\"Mean Squared Error:\", mean_squared_error(y_test, y_pred))\n",
    "print(\"R2 Score:\", r2_score(y_test, y_pred))\n",
    "print(\"Root Mean Squared Error:\", np.sqrt(mean_squared_error(y_test, y_pred)))\n"
   ]
  },
  {
   "cell_type": "markdown",
   "metadata": {},
   "source": [
    "### Model training using Decision Tree"
   ]
  },
  {
   "cell_type": "code",
   "execution_count": 97,
   "metadata": {},
   "outputs": [],
   "source": [
    "# Create and fit the Decision Tree model\n",
    "dt_model = DecisionTreeRegressor(max_depth=10, random_state=42)  # Set max_depth to control tree size\n",
    "dt_model.fit(X_train, y_train)\n",
    "# Predict target values on test data\n",
    "y_pred = dt_model.predict(X_test)\n",
    "\n"
   ]
  },
  {
   "cell_type": "markdown",
   "metadata": {},
   "source": [
    "### Evaluation  Decision Tree\n"
   ]
  },
  {
   "cell_type": "code",
   "execution_count": 98,
   "metadata": {},
   "outputs": [
    {
     "name": "stdout",
     "output_type": "stream",
     "text": [
      "Mean Squared Error: 70.65993352892522\n",
      "R2 Score: 0.9915950661506564\n",
      "Root Mean Squared Error: 8.405946319655225\n"
     ]
    }
   ],
   "source": [
    "print(\"Mean Squared Error:\", mean_squared_error(y_test, y_pred))\n",
    "print(\"R2 Score:\", r2_score(y_test, y_pred))\n",
    "print(\"Root Mean Squared Error:\", np.sqrt(mean_squared_error(y_test, y_pred)))\n"
   ]
  }
 ],
 "metadata": {
  "kernelspec": {
   "display_name": "base",
   "language": "python",
   "name": "python3"
  },
  "language_info": {
   "codemirror_mode": {
    "name": "ipython",
    "version": 3
   },
   "file_extension": ".py",
   "mimetype": "text/x-python",
   "name": "python",
   "nbconvert_exporter": "python",
   "pygments_lexer": "ipython3",
   "version": "3.12.4"
  }
 },
 "nbformat": 4,
 "nbformat_minor": 2
}
